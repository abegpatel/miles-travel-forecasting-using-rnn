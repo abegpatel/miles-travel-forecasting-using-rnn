{
  "nbformat": 4,
  "nbformat_minor": 0,
  "metadata": {
    "colab": {
      "name": "03-RNN-miles-travel-forecasting.ipynb",
      "provenance": [],
      "mount_file_id": "1-oSx2qwnIVqx4hmr3R0NLuK49bCZUj-Y",
      "authorship_tag": "ABX9TyMFZ+qdxRR1/K5V0SgfIk/4",
      "include_colab_link": true
    },
    "kernelspec": {
      "name": "python3",
      "display_name": "Python 3"
    }
  },
  "cells": [
    {
      "cell_type": "markdown",
      "metadata": {
        "id": "view-in-github",
        "colab_type": "text"
      },
      "source": [
        "<a href=\"https://colab.research.google.com/github/abegpatel/miles-travel-forecasting-using-rnn/blob/master/03_RNN_miles_travel_forecasting.ipynb\" target=\"_parent\"><img src=\"https://colab.research.google.com/assets/colab-badge.svg\" alt=\"Open In Colab\"/></a>"
      ]
    },
    {
      "cell_type": "code",
      "metadata": {
        "id": "yf0qYZf9TDCP",
        "colab_type": "code",
        "colab": {}
      },
      "source": [
        "import pandas as pd\n",
        "import numpy as np\n",
        "%matplotlib inline\n",
        "import matplotlib.pyplot as plt"
      ],
      "execution_count": null,
      "outputs": []
    },
    {
      "cell_type": "code",
      "metadata": {
        "id": "DbKJlDVGRqda",
        "colab_type": "code",
        "colab": {}
      },
      "source": [
        "df = pd.read_csv('/content/drive/My Drive/Colab Notebooks/Miles_Traveled.csv',index_col='DATE',parse_dates=True)\n",
        "df.index.freq = 'MS'"
      ],
      "execution_count": null,
      "outputs": []
    },
    {
      "cell_type": "code",
      "metadata": {
        "id": "foFcXc9VS-ma",
        "colab_type": "code",
        "colab": {
          "base_uri": "https://localhost:8080/",
          "height": 226
        },
        "outputId": "b6962153-c4eb-4e92-c9fa-f8d9da84fc02"
      },
      "source": [
        "df.head()"
      ],
      "execution_count": null,
      "outputs": [
        {
          "output_type": "execute_result",
          "data": {
            "text/html": [
              "<div>\n",
              "<style scoped>\n",
              "    .dataframe tbody tr th:only-of-type {\n",
              "        vertical-align: middle;\n",
              "    }\n",
              "\n",
              "    .dataframe tbody tr th {\n",
              "        vertical-align: top;\n",
              "    }\n",
              "\n",
              "    .dataframe thead th {\n",
              "        text-align: right;\n",
              "    }\n",
              "</style>\n",
              "<table border=\"1\" class=\"dataframe\">\n",
              "  <thead>\n",
              "    <tr style=\"text-align: right;\">\n",
              "      <th></th>\n",
              "      <th>TRFVOLUSM227NFWA</th>\n",
              "    </tr>\n",
              "    <tr>\n",
              "      <th>DATE</th>\n",
              "      <th></th>\n",
              "    </tr>\n",
              "  </thead>\n",
              "  <tbody>\n",
              "    <tr>\n",
              "      <th>1970-01-01</th>\n",
              "      <td>80173.0</td>\n",
              "    </tr>\n",
              "    <tr>\n",
              "      <th>1970-02-01</th>\n",
              "      <td>77442.0</td>\n",
              "    </tr>\n",
              "    <tr>\n",
              "      <th>1970-03-01</th>\n",
              "      <td>90223.0</td>\n",
              "    </tr>\n",
              "    <tr>\n",
              "      <th>1970-04-01</th>\n",
              "      <td>89956.0</td>\n",
              "    </tr>\n",
              "    <tr>\n",
              "      <th>1970-05-01</th>\n",
              "      <td>97972.0</td>\n",
              "    </tr>\n",
              "  </tbody>\n",
              "</table>\n",
              "</div>"
            ],
            "text/plain": [
              "            TRFVOLUSM227NFWA\n",
              "DATE                        \n",
              "1970-01-01           80173.0\n",
              "1970-02-01           77442.0\n",
              "1970-03-01           90223.0\n",
              "1970-04-01           89956.0\n",
              "1970-05-01           97972.0"
            ]
          },
          "metadata": {
            "tags": []
          },
          "execution_count": 5
        }
      ]
    },
    {
      "cell_type": "code",
      "metadata": {
        "id": "0PgpgMtmTQw0",
        "colab_type": "code",
        "colab": {}
      },
      "source": [
        "df.columns=['Value']"
      ],
      "execution_count": null,
      "outputs": []
    },
    {
      "cell_type": "code",
      "metadata": {
        "id": "B6XfpV7oTS5-",
        "colab_type": "code",
        "colab": {
          "base_uri": "https://localhost:8080/",
          "height": 434
        },
        "outputId": "fcaf55c9-4f8c-4b84-f083-2eadf6f8e49f"
      },
      "source": [
        "df"
      ],
      "execution_count": null,
      "outputs": [
        {
          "output_type": "execute_result",
          "data": {
            "text/html": [
              "<div>\n",
              "<style scoped>\n",
              "    .dataframe tbody tr th:only-of-type {\n",
              "        vertical-align: middle;\n",
              "    }\n",
              "\n",
              "    .dataframe tbody tr th {\n",
              "        vertical-align: top;\n",
              "    }\n",
              "\n",
              "    .dataframe thead th {\n",
              "        text-align: right;\n",
              "    }\n",
              "</style>\n",
              "<table border=\"1\" class=\"dataframe\">\n",
              "  <thead>\n",
              "    <tr style=\"text-align: right;\">\n",
              "      <th></th>\n",
              "      <th>Value</th>\n",
              "    </tr>\n",
              "    <tr>\n",
              "      <th>DATE</th>\n",
              "      <th></th>\n",
              "    </tr>\n",
              "  </thead>\n",
              "  <tbody>\n",
              "    <tr>\n",
              "      <th>1970-01-01</th>\n",
              "      <td>80173.0</td>\n",
              "    </tr>\n",
              "    <tr>\n",
              "      <th>1970-02-01</th>\n",
              "      <td>77442.0</td>\n",
              "    </tr>\n",
              "    <tr>\n",
              "      <th>1970-03-01</th>\n",
              "      <td>90223.0</td>\n",
              "    </tr>\n",
              "    <tr>\n",
              "      <th>1970-04-01</th>\n",
              "      <td>89956.0</td>\n",
              "    </tr>\n",
              "    <tr>\n",
              "      <th>1970-05-01</th>\n",
              "      <td>97972.0</td>\n",
              "    </tr>\n",
              "    <tr>\n",
              "      <th>...</th>\n",
              "      <td>...</td>\n",
              "    </tr>\n",
              "    <tr>\n",
              "      <th>2018-08-01</th>\n",
              "      <td>286608.0</td>\n",
              "    </tr>\n",
              "    <tr>\n",
              "      <th>2018-09-01</th>\n",
              "      <td>260595.0</td>\n",
              "    </tr>\n",
              "    <tr>\n",
              "      <th>2018-10-01</th>\n",
              "      <td>282174.0</td>\n",
              "    </tr>\n",
              "    <tr>\n",
              "      <th>2018-11-01</th>\n",
              "      <td>258590.0</td>\n",
              "    </tr>\n",
              "    <tr>\n",
              "      <th>2018-12-01</th>\n",
              "      <td>268413.0</td>\n",
              "    </tr>\n",
              "  </tbody>\n",
              "</table>\n",
              "<p>588 rows × 1 columns</p>\n",
              "</div>"
            ],
            "text/plain": [
              "               Value\n",
              "DATE                \n",
              "1970-01-01   80173.0\n",
              "1970-02-01   77442.0\n",
              "1970-03-01   90223.0\n",
              "1970-04-01   89956.0\n",
              "1970-05-01   97972.0\n",
              "...              ...\n",
              "2018-08-01  286608.0\n",
              "2018-09-01  260595.0\n",
              "2018-10-01  282174.0\n",
              "2018-11-01  258590.0\n",
              "2018-12-01  268413.0\n",
              "\n",
              "[588 rows x 1 columns]"
            ]
          },
          "metadata": {
            "tags": []
          },
          "execution_count": 7
        }
      ]
    },
    {
      "cell_type": "code",
      "metadata": {
        "id": "-JmaO6doTVVa",
        "colab_type": "code",
        "colab": {
          "base_uri": "https://localhost:8080/",
          "height": 296
        },
        "outputId": "7bc7fe79-a75c-41e4-dc29-a0305628a2c3"
      },
      "source": [
        "df.plot()"
      ],
      "execution_count": null,
      "outputs": [
        {
          "output_type": "execute_result",
          "data": {
            "text/plain": [
              "<matplotlib.axes._subplots.AxesSubplot at 0x7f230a481940>"
            ]
          },
          "metadata": {
            "tags": []
          },
          "execution_count": 8
        },
        {
          "output_type": "display_data",
          "data": {
            "image/png": "[encoded data removed]",
            "text/plain": [
              "<Figure size 432x288 with 1 Axes>"
            ]
          },
          "metadata": {
            "tags": [],
            "needs_background": "light"
          }
        }
      ]
    },
    {
      "cell_type": "code",
      "metadata": {
        "id": "Q1aPr5ydTWg8",
        "colab_type": "code",
        "colab": {
          "base_uri": "https://localhost:8080/",
          "height": 70
        },
        "outputId": "2f76d528-9981-451d-d25a-350753e7c935"
      },
      "source": [
        "from statsmodels.tsa.seasonal import seasonal_decompose"
      ],
      "execution_count": null,
      "outputs": [
        {
          "output_type": "stream",
          "text": [
            "/usr/local/lib/python3.6/dist-packages/statsmodels/tools/_testing.py:19: FutureWarning: pandas.util.testing is deprecated. Use the functions in the public API at pandas.testing instead.\n",
            "  import pandas.util.testing as tm\n"
          ],
          "name": "stderr"
        }
      ]
    },
    {
      "cell_type": "code",
      "metadata": {
        "id": "MlPjtEZOTbu_",
        "colab_type": "code",
        "colab": {
          "base_uri": "https://localhost:8080/",
          "height": 297
        },
        "outputId": "0b48a777-4f7f-4554-b8fa-1019ca15ca04"
      },
      "source": [
        "results = seasonal_decompose(df['Value'])\n",
        "results.plot();"
      ],
      "execution_count": null,
      "outputs": [
        {
          "output_type": "display_data",
          "data": {
            "image/png": "[encoded data removed]",
            "text/plain": [
              "<Figure size 432x288 with 4 Axes>"
            ]
          },
          "metadata": {
            "tags": [],
            "needs_background": "light"
          }
        }
      ]
    },
    {
      "cell_type": "markdown",
      "metadata": {
        "id": "2Et4x_f3Tjmb",
        "colab_type": "text"
      },
      "source": [
        "**Train Test Split**"
      ]
    },
    {
      "cell_type": "code",
      "metadata": {
        "id": "CxDKWRemToSA",
        "colab_type": "code",
        "colab": {
          "base_uri": "https://localhost:8080/",
          "height": 33
        },
        "outputId": "7a0edea0-6ca5-46a1-889c-eb0dd357b6a2"
      },
      "source": [
        "len(df)"
      ],
      "execution_count": null,
      "outputs": [
        {
          "output_type": "execute_result",
          "data": {
            "text/plain": [
              "588"
            ]
          },
          "metadata": {
            "tags": []
          },
          "execution_count": 11
        }
      ]
    },
    {
      "cell_type": "code",
      "metadata": {
        "id": "xZvVTjs6TrGg",
        "colab_type": "code",
        "colab": {}
      },
      "source": [
        "train_len = len(df)-12"
      ],
      "execution_count": null,
      "outputs": []
    },
    {
      "cell_type": "code",
      "metadata": {
        "id": "FDAEjm2JTtxN",
        "colab_type": "code",
        "colab": {}
      },
      "source": [
        "train = df.iloc[:train_len]\n",
        "test = df.iloc[train_len:]"
      ],
      "execution_count": null,
      "outputs": []
    },
    {
      "cell_type": "markdown",
      "metadata": {
        "id": "A1Dbs4_VT06A",
        "colab_type": "text"
      },
      "source": [
        "**Scale Data**"
      ]
    },
    {
      "cell_type": "code",
      "metadata": {
        "id": "sSvmBXtOT3wL",
        "colab_type": "code",
        "colab": {}
      },
      "source": [
        "from sklearn.preprocessing import MinMaxScaler"
      ],
      "execution_count": null,
      "outputs": []
    },
    {
      "cell_type": "code",
      "metadata": {
        "id": "jwGwz_A-T60o",
        "colab_type": "code",
        "colab": {}
      },
      "source": [
        "scaler = MinMaxScaler()"
      ],
      "execution_count": null,
      "outputs": []
    },
    {
      "cell_type": "code",
      "metadata": {
        "id": "yJEDgMm5T9KG",
        "colab_type": "code",
        "colab": {
          "base_uri": "https://localhost:8080/",
          "height": 33
        },
        "outputId": "e151eef5-d8e3-4597-ef40-2656eb6944af"
      },
      "source": [
        "scaler.fit(train)"
      ],
      "execution_count": null,
      "outputs": [
        {
          "output_type": "execute_result",
          "data": {
            "text/plain": [
              "MinMaxScaler(copy=True, feature_range=(0, 1))"
            ]
          },
          "metadata": {
            "tags": []
          },
          "execution_count": 16
        }
      ]
    },
    {
      "cell_type": "code",
      "metadata": {
        "id": "rW-CM_gPT_jL",
        "colab_type": "code",
        "colab": {}
      },
      "source": [
        "scaled_train = scaler.transform(train)\n",
        "scaled_test = scaler.transform(test)"
      ],
      "execution_count": null,
      "outputs": []
    },
    {
      "cell_type": "markdown",
      "metadata": {
        "id": "LXvNTN6BUEG8",
        "colab_type": "text"
      },
      "source": [
        "**# Time Series Generator**"
      ]
    },
    {
      "cell_type": "code",
      "metadata": {
        "id": "6pVYmiUfUCJO",
        "colab_type": "code",
        "colab": {
          "base_uri": "https://localhost:8080/",
          "height": 33
        },
        "outputId": "a222e4b4-0b71-4e3b-dcfc-d091362ef3d0"
      },
      "source": [
        "from keras.preprocessing.sequence import TimeseriesGenerator"
      ],
      "execution_count": null,
      "outputs": [
        {
          "output_type": "stream",
          "text": [
            "Using TensorFlow backend.\n"
          ],
          "name": "stderr"
        }
      ]
    },
    {
      "cell_type": "code",
      "metadata": {
        "id": "OXbm2RWWUazV",
        "colab_type": "code",
        "colab": {}
      },
      "source": [
        "n_input = 24\n",
        "n_features=1\n",
        "generator = TimeseriesGenerator(scaled_train, scaled_train, length=n_input, batch_size=1)"
      ],
      "execution_count": null,
      "outputs": []
    },
    {
      "cell_type": "markdown",
      "metadata": {
        "id": "niPdOlwHUrD7",
        "colab_type": "text"
      },
      "source": [
        "**Create the Model**"
      ]
    },
    {
      "cell_type": "code",
      "metadata": {
        "id": "fn9TGXzgUfxu",
        "colab_type": "code",
        "colab": {}
      },
      "source": [
        "from keras.models import Sequential\n",
        "from keras.layers import Dense\n",
        "from keras.layers import LSTM"
      ],
      "execution_count": null,
      "outputs": []
    },
    {
      "cell_type": "code",
      "metadata": {
        "id": "DW3CCsHYUpqB",
        "colab_type": "code",
        "colab": {}
      },
      "source": [
        "# define model\n",
        "model = Sequential()\n",
        "model.add(LSTM(150, activation='relu', input_shape=(n_input, n_features)))\n",
        "model.add(Dense(1))\n",
        "model.compile(optimizer='adam', loss='mse')"
      ],
      "execution_count": null,
      "outputs": []
    },
    {
      "cell_type": "code",
      "metadata": {
        "id": "w1sM8JngU0cL",
        "colab_type": "code",
        "colab": {
          "base_uri": "https://localhost:8080/",
          "height": 217
        },
        "outputId": "a78004e7-67ef-4201-923c-2aa0bee6dc37"
      },
      "source": [
        "model.summary()"
      ],
      "execution_count": null,
      "outputs": [
        {
          "output_type": "stream",
          "text": [
            "Model: \"sequential_1\"\n",
            "_________________________________________________________________\n",
            "Layer (type)                 Output Shape              Param #   \n",
            "=================================================================\n",
            "lstm_1 (LSTM)                (None, 150)               91200     \n",
            "_________________________________________________________________\n",
            "dense_1 (Dense)              (None, 1)                 151       \n",
            "=================================================================\n",
            "Total params: 91,351\n",
            "Trainable params: 91,351\n",
            "Non-trainable params: 0\n",
            "_________________________________________________________________\n"
          ],
          "name": "stdout"
        }
      ]
    },
    {
      "cell_type": "code",
      "metadata": {
        "id": "iawJccS0U39K",
        "colab_type": "code",
        "colab": {
          "base_uri": "https://localhost:8080/",
          "height": 1000
        },
        "outputId": "add41cd5-f402-459d-a05e-5764c1865737"
      },
      "source": [
        " #fit model\n",
        "model.fit_generator(generator,epochs=30)"
      ],
      "execution_count": null,
      "outputs": [
        {
          "output_type": "stream",
          "text": [
            "Epoch 1/30\n",
            "552/552 [==============================] - 8s 15ms/step - loss: 0.0147\n",
            "Epoch 2/30\n",
            "552/552 [==============================] - 8s 14ms/step - loss: 0.0064\n",
            "Epoch 3/30\n",
            "552/552 [==============================] - 8s 14ms/step - loss: 0.0059\n",
            "Epoch 4/30\n",
            "552/552 [==============================] - 8s 14ms/step - loss: 0.0056\n",
            "Epoch 5/30\n",
            "552/552 [==============================] - 8s 14ms/step - loss: 0.0049\n",
            "Epoch 6/30\n",
            "552/552 [==============================] - 8s 14ms/step - loss: 0.0037\n",
            "Epoch 7/30\n",
            "552/552 [==============================] - 8s 14ms/step - loss: 0.0025\n",
            "Epoch 8/30\n",
            "552/552 [==============================] - 8s 14ms/step - loss: 0.0021\n",
            "Epoch 9/30\n",
            "552/552 [==============================] - 8s 14ms/step - loss: 0.0017\n",
            "Epoch 10/30\n",
            "552/552 [==============================] - 8s 14ms/step - loss: 0.0018\n",
            "Epoch 11/30\n",
            "552/552 [==============================] - 8s 14ms/step - loss: 0.0016\n",
            "Epoch 12/30\n",
            "552/552 [==============================] - 8s 14ms/step - loss: 0.0014\n",
            "Epoch 13/30\n",
            "552/552 [==============================] - 8s 14ms/step - loss: 0.0014\n",
            "Epoch 14/30\n",
            "552/552 [==============================] - 8s 14ms/step - loss: 0.0015\n",
            "Epoch 15/30\n",
            "552/552 [==============================] - 8s 14ms/step - loss: 0.0012\n",
            "Epoch 16/30\n",
            "552/552 [==============================] - 8s 14ms/step - loss: 0.0013\n",
            "Epoch 17/30\n",
            "552/552 [==============================] - 8s 14ms/step - loss: 0.0010\n",
            "Epoch 18/30\n",
            "552/552 [==============================] - 8s 14ms/step - loss: 0.0010\n",
            "Epoch 19/30\n",
            "552/552 [==============================] - 8s 14ms/step - loss: 0.0011\n",
            "Epoch 20/30\n",
            "552/552 [==============================] - 8s 14ms/step - loss: 9.2775e-04\n",
            "Epoch 21/30\n",
            "552/552 [==============================] - 8s 14ms/step - loss: 9.3569e-04\n",
            "Epoch 22/30\n",
            "552/552 [==============================] - 8s 14ms/step - loss: 0.0010\n",
            "Epoch 23/30\n",
            "552/552 [==============================] - 8s 14ms/step - loss: 9.3155e-04\n",
            "Epoch 24/30\n",
            "552/552 [==============================] - 8s 14ms/step - loss: 0.0010\n",
            "Epoch 25/30\n",
            "552/552 [==============================] - 8s 14ms/step - loss: 9.2413e-04\n",
            "Epoch 26/30\n",
            "552/552 [==============================] - 8s 14ms/step - loss: 9.6259e-04\n",
            "Epoch 27/30\n",
            "552/552 [==============================] - 8s 14ms/step - loss: 8.3026e-04\n",
            "Epoch 28/30\n",
            "552/552 [==============================] - 8s 14ms/step - loss: 8.8935e-04\n",
            "Epoch 29/30\n",
            "552/552 [==============================] - 8s 14ms/step - loss: 8.4321e-04\n",
            "Epoch 30/30\n",
            "552/552 [==============================] - 8s 14ms/step - loss: 7.9015e-04\n"
          ],
          "name": "stdout"
        },
        {
          "output_type": "execute_result",
          "data": {
            "text/plain": [
              "<keras.callbacks.callbacks.History at 0x7f22bd229f98>"
            ]
          },
          "metadata": {
            "tags": []
          },
          "execution_count": 25
        }
      ]
    },
    {
      "cell_type": "code",
      "metadata": {
        "id": "b4CIi5ScU-9K",
        "colab_type": "code",
        "colab": {
          "base_uri": "https://localhost:8080/",
          "height": 33
        },
        "outputId": "c24aa4bd-5bb1-420b-b8c5-a2522d6d435e"
      },
      "source": [
        "model.history.history.keys()"
      ],
      "execution_count": null,
      "outputs": [
        {
          "output_type": "execute_result",
          "data": {
            "text/plain": [
              "dict_keys(['loss'])"
            ]
          },
          "metadata": {
            "tags": []
          },
          "execution_count": 33
        }
      ]
    },
    {
      "cell_type": "code",
      "metadata": {
        "id": "6Srk-wMoVTrH",
        "colab_type": "code",
        "colab": {
          "base_uri": "https://localhost:8080/",
          "height": 281
        },
        "outputId": "63a93690-9fb1-4ea8-edbd-0499c286e78b"
      },
      "source": [
        "loss_per_epoch = model.history.history['loss']\n",
        "plt.plot(range(len(loss_per_epoch)),loss_per_epoch)"
      ],
      "execution_count": null,
      "outputs": [
        {
          "output_type": "execute_result",
          "data": {
            "text/plain": [
              "[<matplotlib.lines.Line2D at 0x7f22b6b900b8>]"
            ]
          },
          "metadata": {
            "tags": []
          },
          "execution_count": 34
        },
        {
          "output_type": "display_data",
          "data": {
            "image/png": "[encoded data removed]",
            "text/plain": [
              "<Figure size 432x288 with 1 Axes>"
            ]
          },
          "metadata": {
            "tags": [],
            "needs_background": "light"
          }
        }
      ]
    },
    {
      "cell_type": "markdown",
      "metadata": {
        "id": "0fsGxpPWVZMp",
        "colab_type": "text"
      },
      "source": [
        "**Evaluate on Test Data**"
      ]
    },
    {
      "cell_type": "code",
      "metadata": {
        "id": "73v62_LoVXnR",
        "colab_type": "code",
        "colab": {}
      },
      "source": [
        "first_eval_batch = scaled_train[-12:]"
      ],
      "execution_count": null,
      "outputs": []
    },
    {
      "cell_type": "code",
      "metadata": {
        "id": "lja4gCETVijI",
        "colab_type": "code",
        "colab": {
          "base_uri": "https://localhost:8080/",
          "height": 217
        },
        "outputId": "36810aa3-732d-44a1-d60b-3756551f3980"
      },
      "source": [
        "first_eval_batch"
      ],
      "execution_count": null,
      "outputs": [
        {
          "output_type": "execute_result",
          "data": {
            "text/plain": [
              "array([[0.79630397],\n",
              "       [0.71226435],\n",
              "       [0.90477416],\n",
              "       [0.93121043],\n",
              "       [0.98386382],\n",
              "       [0.96757519],\n",
              "       [1.        ],\n",
              "       [0.9801859 ],\n",
              "       [0.8824684 ],\n",
              "       [0.95995255],\n",
              "       [0.85883345],\n",
              "       [0.90086755]])"
            ]
          },
          "metadata": {
            "tags": []
          },
          "execution_count": 36
        }
      ]
    },
    {
      "cell_type": "code",
      "metadata": {
        "id": "UP3ff58xVkCt",
        "colab_type": "code",
        "colab": {}
      },
      "source": [
        "first_eval_batch = first_eval_batch.reshape((1, 12, n_features))"
      ],
      "execution_count": null,
      "outputs": []
    },
    {
      "cell_type": "markdown",
      "metadata": {
        "id": "ZT1_6uqYVs2n",
        "colab_type": "text"
      },
      "source": [
        "**Generate predictions into the same time stamps as the test set**"
      ]
    },
    {
      "cell_type": "code",
      "metadata": {
        "id": "pRmCRQdBVpLZ",
        "colab_type": "code",
        "colab": {}
      },
      "source": [
        "test_predictions = []\n",
        "\n",
        "first_eval_batch = scaled_train[-n_input:]\n",
        "current_batch = first_eval_batch.reshape((1, n_input, n_features))\n",
        "\n",
        "for i in range(len(test)):\n",
        "    \n",
        "    # get prediction 1 time stamp ahead ([0] is for grabbing just the number instead of [array])\n",
        "    current_pred = model.predict(current_batch)[0]\n",
        "    \n",
        "    # store prediction\n",
        "    test_predictions.append(current_pred) \n",
        "    \n",
        "    # update batch to now include prediction and drop first value\n",
        "    current_batch = np.append(current_batch[:,1:,:],[[current_pred]],axis=1)"
      ],
      "execution_count": null,
      "outputs": []
    },
    {
      "cell_type": "markdown",
      "metadata": {
        "id": "6rnVTSIcV4u9",
        "colab_type": "text"
      },
      "source": [
        "**Inverse Transformations and Compare¶**"
      ]
    },
    {
      "cell_type": "code",
      "metadata": {
        "id": "SvHygOXsV6iM",
        "colab_type": "code",
        "colab": {}
      },
      "source": [
        "true_predictions = scaler.inverse_transform(test_predictions)"
      ],
      "execution_count": null,
      "outputs": []
    },
    {
      "cell_type": "code",
      "metadata": {
        "id": "vW-EDm3SV9rH",
        "colab_type": "code",
        "colab": {
          "base_uri": "https://localhost:8080/",
          "height": 217
        },
        "outputId": "139697fb-1995-4766-a96f-d10617f5763d"
      },
      "source": [
        "true_predictions"
      ],
      "execution_count": null,
      "outputs": [
        {
          "output_type": "execute_result",
          "data": {
            "text/plain": [
              "array([[249247.12832665],\n",
              "       [239757.49079686],\n",
              "       [269787.76046705],\n",
              "       [275810.32901949],\n",
              "       [286093.55651861],\n",
              "       [286251.08345819],\n",
              "       [292321.40678215],\n",
              "       [287532.66789007],\n",
              "       [274798.29568863],\n",
              "       [281867.96611387],\n",
              "       [266171.29674858],\n",
              "       [270024.40744203]])"
            ]
          },
          "metadata": {
            "tags": []
          },
          "execution_count": 40
        }
      ]
    },
    {
      "cell_type": "markdown",
      "metadata": {
        "id": "nxA9AEMsWGaA",
        "colab_type": "text"
      },
      "source": [
        "**Create a new dataframe that has both the original test values and your predictions for them.**"
      ]
    },
    {
      "cell_type": "code",
      "metadata": {
        "id": "Fz4taXuZWAgL",
        "colab_type": "code",
        "colab": {
          "base_uri": "https://localhost:8080/",
          "height": 137
        },
        "outputId": "ef284441-e655-4528-d689-a6820e66353a"
      },
      "source": [
        "test['Predictions'] = true_predictions"
      ],
      "execution_count": null,
      "outputs": [
        {
          "output_type": "stream",
          "text": [
            "/usr/local/lib/python3.6/dist-packages/ipykernel_launcher.py:1: SettingWithCopyWarning: \n",
            "A value is trying to be set on a copy of a slice from a DataFrame.\n",
            "Try using .loc[row_indexer,col_indexer] = value instead\n",
            "\n",
            "See the caveats in the documentation: https://pandas.pydata.org/pandas-docs/stable/user_guide/indexing.html#returning-a-view-versus-a-copy\n",
            "  \"\"\"Entry point for launching an IPython kernel.\n"
          ],
          "name": "stderr"
        }
      ]
    },
    {
      "cell_type": "code",
      "metadata": {
        "id": "aE0LIRuwWPsD",
        "colab_type": "code",
        "colab": {
          "base_uri": "https://localhost:8080/",
          "height": 435
        },
        "outputId": "7d9a156f-a275-44aa-a701-52595aabef7a"
      },
      "source": [
        "test"
      ],
      "execution_count": null,
      "outputs": [
        {
          "output_type": "execute_result",
          "data": {
            "text/html": [
              "<div>\n",
              "<style scoped>\n",
              "    .dataframe tbody tr th:only-of-type {\n",
              "        vertical-align: middle;\n",
              "    }\n",
              "\n",
              "    .dataframe tbody tr th {\n",
              "        vertical-align: top;\n",
              "    }\n",
              "\n",
              "    .dataframe thead th {\n",
              "        text-align: right;\n",
              "    }\n",
              "</style>\n",
              "<table border=\"1\" class=\"dataframe\">\n",
              "  <thead>\n",
              "    <tr style=\"text-align: right;\">\n",
              "      <th></th>\n",
              "      <th>Value</th>\n",
              "      <th>Predictions</th>\n",
              "    </tr>\n",
              "    <tr>\n",
              "      <th>DATE</th>\n",
              "      <th></th>\n",
              "      <th></th>\n",
              "    </tr>\n",
              "  </thead>\n",
              "  <tbody>\n",
              "    <tr>\n",
              "      <th>2018-01-01</th>\n",
              "      <td>245695.0</td>\n",
              "      <td>249247.128327</td>\n",
              "    </tr>\n",
              "    <tr>\n",
              "      <th>2018-02-01</th>\n",
              "      <td>226660.0</td>\n",
              "      <td>239757.490797</td>\n",
              "    </tr>\n",
              "    <tr>\n",
              "      <th>2018-03-01</th>\n",
              "      <td>268480.0</td>\n",
              "      <td>269787.760467</td>\n",
              "    </tr>\n",
              "    <tr>\n",
              "      <th>2018-04-01</th>\n",
              "      <td>272475.0</td>\n",
              "      <td>275810.329019</td>\n",
              "    </tr>\n",
              "    <tr>\n",
              "      <th>2018-05-01</th>\n",
              "      <td>286164.0</td>\n",
              "      <td>286093.556519</td>\n",
              "    </tr>\n",
              "    <tr>\n",
              "      <th>2018-06-01</th>\n",
              "      <td>280877.0</td>\n",
              "      <td>286251.083458</td>\n",
              "    </tr>\n",
              "    <tr>\n",
              "      <th>2018-07-01</th>\n",
              "      <td>288145.0</td>\n",
              "      <td>292321.406782</td>\n",
              "    </tr>\n",
              "    <tr>\n",
              "      <th>2018-08-01</th>\n",
              "      <td>286608.0</td>\n",
              "      <td>287532.667890</td>\n",
              "    </tr>\n",
              "    <tr>\n",
              "      <th>2018-09-01</th>\n",
              "      <td>260595.0</td>\n",
              "      <td>274798.295689</td>\n",
              "    </tr>\n",
              "    <tr>\n",
              "      <th>2018-10-01</th>\n",
              "      <td>282174.0</td>\n",
              "      <td>281867.966114</td>\n",
              "    </tr>\n",
              "    <tr>\n",
              "      <th>2018-11-01</th>\n",
              "      <td>258590.0</td>\n",
              "      <td>266171.296749</td>\n",
              "    </tr>\n",
              "    <tr>\n",
              "      <th>2018-12-01</th>\n",
              "      <td>268413.0</td>\n",
              "      <td>270024.407442</td>\n",
              "    </tr>\n",
              "  </tbody>\n",
              "</table>\n",
              "</div>"
            ],
            "text/plain": [
              "               Value    Predictions\n",
              "DATE                               \n",
              "2018-01-01  245695.0  249247.128327\n",
              "2018-02-01  226660.0  239757.490797\n",
              "2018-03-01  268480.0  269787.760467\n",
              "2018-04-01  272475.0  275810.329019\n",
              "2018-05-01  286164.0  286093.556519\n",
              "2018-06-01  280877.0  286251.083458\n",
              "2018-07-01  288145.0  292321.406782\n",
              "2018-08-01  286608.0  287532.667890\n",
              "2018-09-01  260595.0  274798.295689\n",
              "2018-10-01  282174.0  281867.966114\n",
              "2018-11-01  258590.0  266171.296749\n",
              "2018-12-01  268413.0  270024.407442"
            ]
          },
          "metadata": {
            "tags": []
          },
          "execution_count": 42
        }
      ]
    },
    {
      "cell_type": "markdown",
      "metadata": {
        "id": "5TrEmaY_WWl6",
        "colab_type": "text"
      },
      "source": [
        "**TASK: Plot out the test set against your own predicted values.**"
      ]
    },
    {
      "cell_type": "code",
      "metadata": {
        "id": "JWmQmwVaWU0_",
        "colab_type": "code",
        "colab": {
          "base_uri": "https://localhost:8080/",
          "height": 525
        },
        "outputId": "1bfdb252-8341-4610-b45c-d6c0588145b7"
      },
      "source": [
        "test.plot(figsize=(12,8))"
      ],
      "execution_count": null,
      "outputs": [
        {
          "output_type": "execute_result",
          "data": {
            "text/plain": [
              "<matplotlib.axes._subplots.AxesSubplot at 0x7f22b6bc8278>"
            ]
          },
          "metadata": {
            "tags": []
          },
          "execution_count": 43
        },
        {
          "output_type": "display_data",
          "data": {
            "image/png": "[encoded data removed]",
            "text/plain": [
              "<Figure size 864x576 with 1 Axes>"
            ]
          },
          "metadata": {
            "tags": [],
            "needs_background": "light"
          }
        }
      ]
    },
    {
      "cell_type": "markdown",
      "metadata": {
        "id": "pULeoL7qWii7",
        "colab_type": "text"
      },
      "source": [
        "**Saving Models**\n",
        "**TASK: Optional, Save your model!**"
      ]
    },
    {
      "cell_type": "code",
      "metadata": {
        "id": "40aNXIrqWez3",
        "colab_type": "code",
        "colab": {}
      },
      "source": [
        "model.save('solutions_model.h5')"
      ],
      "execution_count": null,
      "outputs": []
    },
    {
      "cell_type": "code",
      "metadata": {
        "id": "_0mAs_FfXQkl",
        "colab_type": "code",
        "colab": {}
      },
      "source": [
        ""
      ],
      "execution_count": null,
      "outputs": []
    }
  ]
}